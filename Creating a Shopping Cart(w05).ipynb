{
 "cells": [
  {
   "cell_type": "markdown",
   "metadata": {},
   "source": [
    "# Creating a shopping cart"
   ]
  },
  {
   "cell_type": "code",
   "execution_count": 1,
   "metadata": {},
   "outputs": [
    {
     "name": "stdout",
     "output_type": "stream",
     "text": [
      "Your cart is empty\n"
     ]
    }
   ],
   "source": [
    "#  add, remove, clear, and show the products in the cart\n",
    "from IPython.display import clear_output\n",
    "cart = []\n",
    "def addItems(item):   #adding items to the cart\n",
    "    clear_output()\n",
    "    cart.append(item)\n",
    "    print(f\"{item} has been added successfully\")\n",
    "def removeItem(item):\n",
    "    clear_output()\n",
    "    try:\n",
    "        cart.remove(item)\n",
    "        print(f\"{item} has been removed successfully\")\n",
    "    except:\n",
    "        print(f\"Sorry, we couldn't remove {item} from the cart\")\n",
    "def showCart():\n",
    "    clear_output()\n",
    "    if cart:\n",
    "        print(\"Here's your list: \")\n",
    "        for item in cart:\n",
    "            print(f\"- {item}\")\n",
    "    else:\n",
    "        print(\"Your cart is empty\")\n",
    "def clearCart():\n",
    "    clear_output()\n",
    "    cart.clear()\n",
    "    print(\"Your cart has been cleared\")\n",
    "def main():\n",
    "    done = False\n",
    "    while not done:\n",
    "        ans = input(\"choose what you want and hit enter: quit/add/remove/showcart/clearcart\").lower()\n",
    "        if ans == \"quit\":\n",
    "            print(\"Thanks for using our program\")\n",
    "            showCart()\n",
    "            done = True\n",
    "        elif ans == \"add\":\n",
    "            item = input(\"What would you like to add: \").lower()\n",
    "            addItems(item)\n",
    "            showCart()\n",
    "        elif ans == \"remove\":\n",
    "            item = input(\"What would you like to remove: \").lower()\n",
    "            removeItem(item)\n",
    "        elif ans == \"showcart\":\n",
    "            showCart()\n",
    "        elif ans == \"clearcart\":\n",
    "            clearCart()\n",
    "        else:\n",
    "            print(\"Sorry, you need to input a correct action to perform\")\n",
    "            break\n",
    "main()"
   ]
  },
  {
   "cell_type": "code",
   "execution_count": null,
   "metadata": {},
   "outputs": [],
   "source": []
  }
 ],
 "metadata": {
  "kernelspec": {
   "display_name": "Python 3",
   "language": "python",
   "name": "python3"
  },
  "language_info": {
   "codemirror_mode": {
    "name": "ipython",
    "version": 3
   },
   "file_extension": ".py",
   "mimetype": "text/x-python",
   "name": "python",
   "nbconvert_exporter": "python",
   "pygments_lexer": "ipython3",
   "version": "3.7.4"
  }
 },
 "nbformat": 4,
 "nbformat_minor": 2
}
