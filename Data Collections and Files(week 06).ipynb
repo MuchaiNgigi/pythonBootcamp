{
 "cells": [
  {
   "cell_type": "markdown",
   "metadata": {},
   "source": [
    "# Monday Ex1: Ask the user for their name and age, and then create a dictionary with those key-value pairs. Output the dictionary once created."
   ]
  },
  {
   "cell_type": "code",
   "execution_count": 2,
   "metadata": {},
   "outputs": [
    {
     "name": "stdout",
     "output_type": "stream",
     "text": [
      "What is your name: francis\n",
      "How old are you21\n",
      "{'21', 'Francis'}\n"
     ]
    }
   ],
   "source": [
    "# Dictionaries\n",
    "name = input(\"What is your name: \").title()\n",
    "age = input(\"How old are you\")\n",
    "userDict = {name, age}\n",
    "print(userDict)"
   ]
  },
  {
   "cell_type": "markdown",
   "metadata": {},
   "source": [
    "# Moday Ex2: Accessing Ingredients: Output all the ingredients from the following list within the “ingredients” key using a for loop pizza = {'ingredients': ['cheese', 'sausage', 'peppers']}"
   ]
  },
  {
   "cell_type": "code",
   "execution_count": 21,
   "metadata": {},
   "outputs": [
    {
     "name": "stdout",
     "output_type": "stream",
     "text": [
      "['cheese', 'sausage', 'peppers']\n"
     ]
    }
   ],
   "source": [
    "pizza = {'ingredients' : ['cheese', 'sausage', 'peppers']}\n",
    "for ingredient in pizza.values():\n",
    "    print(ingredient)"
   ]
  },
  {
   "cell_type": "code",
   "execution_count": 15,
   "metadata": {},
   "outputs": [
    {
     "name": "stdout",
     "output_type": "stream",
     "text": [
      "{'mark x': ['black', 180, 'new'], 'color': 'red'}\n"
     ]
    }
   ],
   "source": [
    "# Working with dictionaries: adding new information\n",
    "cars = {'mark x' : ['black', 180, 'new']}\n",
    "cars['color'] = \"red\"\n",
    "print(cars)"
   ]
  },
  {
   "cell_type": "code",
   "execution_count": 16,
   "metadata": {},
   "outputs": [
    {
     "name": "stdout",
     "output_type": "stream",
     "text": [
      "{'mark x': ['black', 180, 'new'], 'color': 'blue'}\n"
     ]
    }
   ],
   "source": [
    "# Changing information\n",
    "cars['color'] = \"blue\"\n",
    "print(cars)"
   ]
  },
  {
   "cell_type": "code",
   "execution_count": 18,
   "metadata": {},
   "outputs": [
    {
     "name": "stdout",
     "output_type": "stream",
     "text": [
      "Item deleted successfully\n"
     ]
    }
   ],
   "source": [
    "# deleting information\n",
    "try:\n",
    "    del cars[\"color\"]\n",
    "    print(\"Item deleted successfully\")\n",
    "except:\n",
    "    print(\"Item is not available\")"
   ]
  },
  {
   "cell_type": "code",
   "execution_count": 19,
   "metadata": {},
   "outputs": [
    {
     "name": "stdout",
     "output_type": "stream",
     "text": [
      "{'mark x': ['black', 180, 'new']}\n"
     ]
    }
   ],
   "source": [
    "print(cars)"
   ]
  },
  {
   "cell_type": "code",
   "execution_count": 22,
   "metadata": {},
   "outputs": [
    {
     "name": "stdout",
     "output_type": "stream",
     "text": [
      "Francis\n",
      "Ngigi\n"
     ]
    }
   ],
   "source": [
    "# Looping a dictionary\n",
    "#1. Looping only keys\n",
    "employees = {'Francis' : 'python.py', 'Ngigi' : 'next developer'}\n",
    "for n in employees.keys():\n",
    "    print(n)"
   ]
  },
  {
   "cell_type": "code",
   "execution_count": 23,
   "metadata": {},
   "outputs": [
    {
     "name": "stdout",
     "output_type": "stream",
     "text": [
      "python.py\n",
      "next developer\n"
     ]
    }
   ],
   "source": [
    "#2: Looping only values\n",
    "for i in employees.values():\n",
    "    print(i)"
   ]
  },
  {
   "cell_type": "code",
   "execution_count": 25,
   "metadata": {},
   "outputs": [
    {
     "name": "stdout",
     "output_type": "stream",
     "text": [
      "Francis : python.py\n",
      "Ngigi : next developer\n"
     ]
    }
   ],
   "source": [
    "#3: Looping key-value pairs\n",
    "for key, value in employees.items():\n",
    "    print(f\"{key} : {value}\")"
   ]
  },
  {
   "cell_type": "markdown",
   "metadata": {},
   "source": [
    "# Tuesday Ex1:  Declare an empty dictionary. Ask the user for their name, address, and number. Add that information to the dictionary and iterate over it to show the user"
   ]
  },
  {
   "cell_type": "code",
   "execution_count": 30,
   "metadata": {},
   "outputs": [
    {
     "name": "stdout",
     "output_type": "stream",
     "text": [
      "What is your name: Francis\n",
      "What is your address: Waiyaki way\n",
      "What is your phone number: 0703123984\n",
      "Francis : ['Waiyaki way', 703123984]\n"
     ]
    }
   ],
   "source": [
    "dets = {}\n",
    "name = input(\"What is your name: \").title()\n",
    "addr = input(\"What is your address: \")\n",
    "number = int(input(\"What is your phone number: \"))\n",
    "dets = {name : [addr, number]}\n",
    "for i, z in dets.items():\n",
    "    print(f\"{i} : {z}\")"
   ]
  },
  {
   "cell_type": "markdown",
   "metadata": {},
   "source": [
    "# Tuples, Sets and frozensets"
   ]
  },
  {
   "cell_type": "code",
   "execution_count": 33,
   "metadata": {},
   "outputs": [
    {
     "name": "stdout",
     "output_type": "stream",
     "text": [
      "('Francis', 'Ngigi', 'Muchai')\n",
      "('Mary', 'Wanjiru', 'Muigai')\n"
     ]
    }
   ],
   "source": [
    "tuple1 = (\"Francis\", \"Ngigi\", \"Muchai\")\n",
    "print(tuple1)\n",
    "tuple2 = (\"Mary\", \"Wanjiru\", \"Muigai\")\n",
    "print(tuple2)"
   ]
  },
  {
   "cell_type": "code",
   "execution_count": 34,
   "metadata": {},
   "outputs": [
    {
     "ename": "TypeError",
     "evalue": "'tuple' object does not support item assignment",
     "output_type": "error",
     "traceback": [
      "\u001b[1;31m---------------------------------------------------------------------------\u001b[0m",
      "\u001b[1;31mTypeError\u001b[0m                                 Traceback (most recent call last)",
      "\u001b[1;32m<ipython-input-34-bbc25661c561>\u001b[0m in \u001b[0;36m<module>\u001b[1;34m\u001b[0m\n\u001b[1;32m----> 1\u001b[1;33m \u001b[0mtuple2\u001b[0m\u001b[1;33m[\u001b[0m\u001b[1;36m0\u001b[0m\u001b[1;33m]\u001b[0m \u001b[1;33m=\u001b[0m \u001b[1;34m\"Franco\"\u001b[0m \u001b[1;31m#this will not run\u001b[0m\u001b[1;33m\u001b[0m\u001b[1;33m\u001b[0m\u001b[0m\n\u001b[0m",
      "\u001b[1;31mTypeError\u001b[0m: 'tuple' object does not support item assignment"
     ]
    }
   ],
   "source": [
    "tuple2[0] = \"Franco\" #this will not run"
   ]
  },
  {
   "cell_type": "code",
   "execution_count": 35,
   "metadata": {},
   "outputs": [
    {
     "name": "stdout",
     "output_type": "stream",
     "text": [
      "<class 'set'> <class 'set'>\n"
     ]
    }
   ],
   "source": [
    "#Sets\n",
    "s1 = set([1, 2, 3, 4, 4, 4, 7])\n",
    "s2 = {2, 5, 6, 7, 8, 4, 3}\n",
    "print(type(s1), type(s2))"
   ]
  },
  {
   "cell_type": "code",
   "execution_count": 36,
   "metadata": {},
   "outputs": [
    {
     "name": "stdout",
     "output_type": "stream",
     "text": [
      "{1, 2, 3, 4, 7}\n",
      "{2, 3, 4, 5, 6, 7, 8}\n"
     ]
    }
   ],
   "source": [
    "print(s1)\n",
    "print(s2)"
   ]
  },
  {
   "cell_type": "code",
   "execution_count": 37,
   "metadata": {},
   "outputs": [
    {
     "name": "stdout",
     "output_type": "stream",
     "text": [
      "{1, 2, 3, 7, 78}\n"
     ]
    }
   ],
   "source": [
    "s1.add(78)\n",
    "s1.remove(4)\n",
    "print(s1)"
   ]
  },
  {
   "cell_type": "code",
   "execution_count": 39,
   "metadata": {},
   "outputs": [
    {
     "name": "stdout",
     "output_type": "stream",
     "text": [
      "<class 'frozenset'>\n"
     ]
    }
   ],
   "source": [
    "# Frozensets: the combination of a set and a tuple\n",
    "fset1 = frozenset([23, 45, 67])\n",
    "print(type(fset1))"
   ]
  },
  {
   "cell_type": "markdown",
   "metadata": {},
   "source": [
    "# Wednesday Ex1:  Ask the user to input as many bank account numbers as they’d like, and store them within a list initially. Once the user is done entering information, convert the list to a frozenset and print it out"
   ]
  },
  {
   "cell_type": "code",
   "execution_count": 41,
   "metadata": {},
   "outputs": [
    {
     "name": "stdout",
     "output_type": "stream",
     "text": [
      "How many bank account numbers do you want to add: 2\n",
      "Enter bank account number: 34333433\n",
      "Enter bank account number: 234223\n",
      "frozenset({'34333433', '234223'})\n"
     ]
    }
   ],
   "source": [
    "no = int(input(\"How many bank account numbers do you want to add: \"))\n",
    "numbers = []\n",
    "for i in range(no):\n",
    "    i = input(\"Enter bank account number: \")\n",
    "    numbers.append(i)\n",
    "fset2 = frozenset(numbers)\n",
    "print(fset2)"
   ]
  },
  {
   "cell_type": "markdown",
   "metadata": {},
   "source": [
    "# Wednesday Ex2:  Convert the following list into a set of unique values. Print it out after to check there are no duplicates  nums = [3, 4, 3, 7, 10]"
   ]
  },
  {
   "cell_type": "code",
   "execution_count": 42,
   "metadata": {},
   "outputs": [
    {
     "name": "stdout",
     "output_type": "stream",
     "text": [
      "{10, 3, 4, 7}\n"
     ]
    }
   ],
   "source": [
    "nums = [3, 4, 3, 7, 10]\n",
    "nums2 = set(nums)\n",
    "print(nums2)"
   ]
  },
  {
   "cell_type": "markdown",
   "metadata": {},
   "source": [
    "# Thursday: Reading and writing files"
   ]
  },
  {
   "cell_type": "code",
   "execution_count": 3,
   "metadata": {},
   "outputs": [
    {
     "name": "stdout",
     "output_type": "stream",
     "text": [
      "Enter Your Name: Francis Ngigi\n",
      "Francis Ngigi\n"
     ]
    }
   ],
   "source": [
    "#Working with text file: open()\n",
    "f = open(\"test.txt\", \"w+\") #open file in writing and reading mode\n",
    "f.write(input(\"Enter Your Name: \"))\n",
    "f.close()\n",
    "# reading from the text.text file\n",
    "f = open(\"test.txt\", \"r\")\n",
    "data = f.read()\n",
    "f.close()\n",
    "print(data)"
   ]
  },
  {
   "cell_type": "markdown",
   "metadata": {},
   "source": [
    "# Writing into csv files"
   ]
  },
  {
   "cell_type": "code",
   "execution_count": 3,
   "metadata": {},
   "outputs": [
    {
     "name": "stdout",
     "output_type": "stream",
     "text": [
      "['Name', 'City']\n",
      "['Francis', 'Nairobi']\n"
     ]
    }
   ],
   "source": [
    "# tabular data structure:  work with data by separating a comma between each cell\n",
    "# opening/creating and writing to a csv file\n",
    "import csv \n",
    "with open(\"test.csv\", mode = \"w\", newline = \"\") as f:\n",
    "    writer = csv.writer(f, delimiter = \",\")\n",
    "    writer.writerow([\"Name\", \"City\"])\n",
    "    writer.writerow([\"Francis\", \"Nairobi\"])\n",
    "with open(\"test.csv\", mode = \"r\") as f:      #reading from files\n",
    "    reader = csv.reader(f, delimiter = \",\")\n",
    "    for row in reader:\n",
    "        print(row)"
   ]
  },
  {
   "cell_type": "markdown",
   "metadata": {},
   "source": [
    "# Thursday Ex1: User Input: Ask a user for their favorite number, and save it to a text file."
   ]
  },
  {
   "cell_type": "code",
   "execution_count": 6,
   "metadata": {},
   "outputs": [
    {
     "name": "stdout",
     "output_type": "stream",
     "text": [
      "Enter your favorite number: 69\n",
      "69\n"
     ]
    }
   ],
   "source": [
    "fNumber = open(\"name.txt\", \"w\")\n",
    "fNumber.write(input(\"Enter your favorite number: \"))\n",
    "fNumber.close()\n",
    "fNumber = open(\"name.txt\", \"r\")\n",
    "data2 = fNumber.read()\n",
    "fNumber.close()\n",
    "print(data2)"
   ]
  },
  {
   "cell_type": "markdown",
   "metadata": {},
   "source": [
    "# Thursday Ex2: Using the dictionary of following data, save the information to a csv file with the keys as the headers and the values as the rows of data:data = {'name' : ['Dave', 'Dennis', 'Peter', 'Jess'],'language': ['Python', 'C', 'Java', 'Python']\n",
    "}"
   ]
  },
  {
   "cell_type": "code",
   "execution_count": 13,
   "metadata": {},
   "outputs": [
    {
     "name": "stdout",
     "output_type": "stream",
     "text": [
      "['Name', 'Language']\n",
      "['Dave', 'Pyhton']\n",
      "['Dennis', 'C']\n",
      "['Peter', 'Java']\n",
      "['Jess', 'Python']\n"
     ]
    }
   ],
   "source": [
    "import csv\n",
    "with open(\"data3.csv\", mode = \"w\", newline = \"\") as f2:\n",
    "    writer1 = csv.writer(f2, delimiter= ',')\n",
    "    writer1.writerow([\"Name\", \"Language\"])\n",
    "    writer1.writerow([\"Dave\", \"Pyhton\"])\n",
    "    writer1.writerow([\"Dennis\", \"C\"])\n",
    "    writer1.writerow([\"Peter\", \"Java\"])\n",
    "    writer1.writerow([\"Jess\", \"Python\"])\n",
    "with open(\"data3.csv\", mode = \"r\") as f2:\n",
    "    reader2 = csv.reader(f2)\n",
    "    for d in reader2:\n",
    "        print(d)"
   ]
  },
  {
   "cell_type": "code",
   "execution_count": null,
   "metadata": {},
   "outputs": [],
   "source": []
  }
 ],
 "metadata": {
  "kernelspec": {
   "display_name": "Python 3",
   "language": "python",
   "name": "python3"
  },
  "language_info": {
   "codemirror_mode": {
    "name": "ipython",
    "version": 3
   },
   "file_extension": ".py",
   "mimetype": "text/x-python",
   "name": "python",
   "nbconvert_exporter": "python",
   "pygments_lexer": "ipython3",
   "version": "3.7.4"
  }
 },
 "nbformat": 4,
 "nbformat_minor": 2
}
