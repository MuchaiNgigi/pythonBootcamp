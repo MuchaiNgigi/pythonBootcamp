{
 "cells": [
  {
   "cell_type": "markdown",
   "metadata": {},
   "source": [
    "# Creating a user database with csv files"
   ]
  },
  {
   "cell_type": "code",
   "execution_count": 1,
   "metadata": {},
   "outputs": [
    {
     "name": "stdout",
     "output_type": "stream",
     "text": [
      "Thank You For Using Our Software\n"
     ]
    }
   ],
   "source": [
    "import csv\n",
    "from IPython.display import clear_output\n",
    "active = True\n",
    "logged_in = False\n",
    "def login():\n",
    "    print(\"To login you need to correctly enter your details below\")\n",
    "    email = input(\"Enter your email address: \")\n",
    "    password = input(\"Enter your password: \")\n",
    "    clear_output()\n",
    "    with open(\"newfile.csv\", mode = \"r\") as f:\n",
    "        reader = csv.reader(f, delimiter = \",\")\n",
    "        for row in reader:\n",
    "            if row == [email, password]:\n",
    "                print(\"Logged in successfully\")\n",
    "                logged_in = True\n",
    "    print(\"Check Your Details Again!!!\")\n",
    "    return False\n",
    "def register():\n",
    "    with open(\"newfile.csv\", mode = \"a\", newline = \"\") as f:\n",
    "        writer = csv.writer(f, delimiter = \",\")\n",
    "        print(\"Enter your details to register: \")\n",
    "        email = input(\"Enter Your Email Address: \")\n",
    "        password = input(\"Enter your password: \")\n",
    "        confirm_pass = input(\"Re-enter password: \")\n",
    "        clear_output()\n",
    "        if password == confirm_pass:\n",
    "            writer.writerow([email, password])\n",
    "            print(\"Welcome\")\n",
    "            logged_in = True\n",
    "        else:\n",
    "            print(\"Unfortunately we couldn't create your account\")\n",
    "\n",
    "while active:\n",
    "    if logged_in:\n",
    "        print(\"1.Logout\\n2.Quit\")\n",
    "    else:\n",
    "        print(\"1.Login\\n2.Register\\n3.Quit\")\n",
    "    print(\"Type out what action you want to take: \")\n",
    "    choice = input(\"Select action: \").lower()\n",
    "    clear_output()\n",
    "    if choice == \"register\" and logged_in == False:\n",
    "        register()\n",
    "    elif choice == \"login\" and logged_in == False:\n",
    "        login()\n",
    "    elif choice == \"quit\":\n",
    "        active = False\n",
    "        print(\"Thank You For Using Our Software\")\n",
    "    elif choice == \"logout\" and logged_in == True:\n",
    "        active = False\n",
    "        print(\"Logged Out\")\n",
    "    else:\n",
    "        print(\"Sorry Something Went Wrong!!!!!!!!\")"
   ]
  },
  {
   "cell_type": "markdown",
   "metadata": {},
   "source": [
    "# Palindromes"
   ]
  },
  {
   "cell_type": "code",
   "execution_count": null,
   "metadata": {},
   "outputs": [],
   "source": [
    "def palindromes(word):\n",
    "    return True if word == word[::-1] else False"
   ]
  }
 ],
 "metadata": {
  "kernelspec": {
   "display_name": "Python 3",
   "language": "python",
   "name": "python3"
  },
  "language_info": {
   "codemirror_mode": {
    "name": "ipython",
    "version": 3
   },
   "file_extension": ".py",
   "mimetype": "text/x-python",
   "name": "python",
   "nbconvert_exporter": "python",
   "pygments_lexer": "ipython3",
   "version": "3.7.4"
  }
 },
 "nbformat": 4,
 "nbformat_minor": 2
}
