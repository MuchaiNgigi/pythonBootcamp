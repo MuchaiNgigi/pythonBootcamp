{
 "cells": [
  {
   "cell_type": "code",
   "execution_count": 2,
   "metadata": {},
   "outputs": [
    {
     "name": "stdout",
     "output_type": "stream",
     "text": [
      "Name: Francis\n",
      "Age: 20\n"
     ]
    }
   ],
   "source": [
    "def name():\n",
    "    print(\"Name: Francis\")\n",
    "    print(\"Age: 20\")\n",
    "name()"
   ]
  },
  {
   "cell_type": "code",
   "execution_count": 3,
   "metadata": {},
   "outputs": [
    {
     "name": "stdout",
     "output_type": "stream",
     "text": [
      "56\n"
     ]
    }
   ],
   "source": [
    "def calc():\n",
    "    x, y = 7, 8\n",
    "    print(x * y)\n",
    "calc()"
   ]
  },
  {
   "cell_type": "markdown",
   "metadata": {},
   "source": [
    "# Monday Exercises"
   ]
  },
  {
   "cell_type": "code",
   "execution_count": 4,
   "metadata": {},
   "outputs": [
    {
     "name": "stdout",
     "output_type": "stream",
     "text": [
      "Muchai Ngigi\n"
     ]
    }
   ],
   "source": [
    "# Define a function called myName and have it print out your name when called\n",
    "def myName():\n",
    "    print(\"Muchai Ngigi\")\n",
    "myName()"
   ]
  },
  {
   "cell_type": "code",
   "execution_count": 5,
   "metadata": {},
   "outputs": [
    {
     "name": "stdout",
     "output_type": "stream",
     "text": [
      "Pepperoni, Bacon\n",
      "Pepperoni, Bacon\n",
      "Pepperoni, Bacon\n"
     ]
    }
   ],
   "source": [
    " # Define a function that prints out all your favorite pizza toppings called pizzaToppings. Call the function three times\n",
    "def pizzaToppings():\n",
    "    print(\"Pepperoni, Bacon\")\n",
    "pizzaToppings()\n",
    "pizzaToppings()\n",
    "pizzaToppings()"
   ]
  },
  {
   "cell_type": "markdown",
   "metadata": {},
   "source": [
    "# Tuesday-Parameters"
   ]
  },
  {
   "cell_type": "code",
   "execution_count": 6,
   "metadata": {},
   "outputs": [
    {
     "name": "stdout",
     "output_type": "stream",
     "text": [
      "Hello Francis\n"
     ]
    }
   ],
   "source": [
    "def MyName(name):\n",
    "    print(f\"Hello {name}\")\n",
    "MyName(\"Francis\")"
   ]
  },
  {
   "cell_type": "code",
   "execution_count": 7,
   "metadata": {},
   "outputs": [
    {
     "name": "stdout",
     "output_type": "stream",
     "text": [
      "Hello Francis Ngigi\n",
      "Hello Muchai\n"
     ]
    }
   ],
   "source": [
    "# Single Parameters\n",
    "def Names(full_name):\n",
    "    print(f\"Hello {full_name}\")\n",
    "Names(\"Francis Ngigi\")\n",
    "Names(\"Muchai\")"
   ]
  },
  {
   "cell_type": "code",
   "execution_count": 8,
   "metadata": {},
   "outputs": [
    {
     "name": "stdout",
     "output_type": "stream",
     "text": [
      "Hello Francis, you are 20 years old\n"
     ]
    }
   ],
   "source": [
    "# Multiple Parameters\n",
    "def fullName(f_name, age):\n",
    "    print(f\"Hello {f_name}, you are {age} years old\")\n",
    "fullName(\"Francis\", 20)"
   ]
  },
  {
   "cell_type": "code",
   "execution_count": 11,
   "metadata": {},
   "outputs": [
    {
     "name": "stdout",
     "output_type": "stream",
     "text": [
      "1\n",
      "4\n",
      "9\n",
      "16\n",
      "25\n",
      "36\n",
      "2025\n",
      "3136\n",
      "4489\n",
      "826281\n",
      "810000\n"
     ]
    }
   ],
   "source": [
    "# Passing a list\n",
    "numbers1 = [1, 2, 3, 4, 5, 6]\n",
    "numbers2 = [45, 56, 67, 909, 900]\n",
    "def squares(nums):\n",
    "    for i in nums:\n",
    "        print(i**2)\n",
    "squares(numbers1)\n",
    "squares(numbers2)"
   ]
  },
  {
   "cell_type": "code",
   "execution_count": 16,
   "metadata": {},
   "outputs": [
    {
     "name": "stdout",
     "output_type": "stream",
     "text": [
      "Your name is Francis Ngigi\n",
      "Your Name is Francis Ngigi Muchai\n"
     ]
    }
   ],
   "source": [
    "# Making parameters optional-assign an empty string\n",
    "def yourName(fName, lName, mName=\"\"):\n",
    "    if mName:\n",
    "        print(f\"Your Name is {fName} {lName} {mName}\")\n",
    "    else:\n",
    "        print(f\"Your name is {fName} {lName}\")\n",
    "yourName(\"Francis\", \"Ngigi\")\n",
    "yourName(\"Francis\", \"Ngigi\", \"Muchai\")"
   ]
  },
  {
   "cell_type": "code",
   "execution_count": 17,
   "metadata": {},
   "outputs": [
    {
     "name": "stdout",
     "output_type": "stream",
     "text": [
      "153.86\n"
     ]
    }
   ],
   "source": [
    "# default parameters\n",
    "def area(r, pi=3.14):\n",
    "    print(pi * r**2)\n",
    "area(7)"
   ]
  },
  {
   "cell_type": "code",
   "execution_count": 19,
   "metadata": {},
   "outputs": [
    {
     "name": "stdout",
     "output_type": "stream",
     "text": [
      "6\n",
      "4.9\n"
     ]
    }
   ],
   "source": [
    "#Named parameter assignment\n",
    "def numbers(num1, num2):\n",
    "    print(num2)\n",
    "    print(num1)\n",
    "numbers(4.9, num2=6)"
   ]
  },
  {
   "cell_type": "code",
   "execution_count": 1,
   "metadata": {},
   "outputs": [
    {
     "name": "stdout",
     "output_type": "stream",
     "text": [
      "<class 'tuple'>\n",
      "5\n",
      "True\n",
      "Love\n"
     ]
    }
   ],
   "source": [
    "# *args: Important when not sure how many arguments to expect(tuple)\n",
    "def outputData(name, *args):\n",
    "    print(type(args))\n",
    "    for arg in args:\n",
    "        print(arg)\n",
    "outputData(\"Francis Ngigi\", 5, True, \"Love\")"
   ]
  },
  {
   "cell_type": "code",
   "execution_count": 4,
   "metadata": {},
   "outputs": [
    {
     "name": "stdout",
     "output_type": "stream",
     "text": [
      "<class 'dict'>\n",
      "Franco\n",
      "20\n"
     ]
    }
   ],
   "source": [
    "# **kwargs: Allows us to take in an arbitrary number of arguments: dictionary\n",
    "# keyword arguments\n",
    "def workers(**kwargs):\n",
    "    print(type(kwargs))\n",
    "    print(kwargs[\"name\"])\n",
    "    print(kwargs[\"num\"])\n",
    "workers(name = \"Franco\", num = 20, b = True)"
   ]
  },
  {
   "cell_type": "markdown",
   "metadata": {},
   "source": [
    "# Tuesday Ex1:  input a word, and pass that word into a function that checks if the word starts with an uppercase"
   ]
  },
  {
   "cell_type": "code",
   "execution_count": 6,
   "metadata": {},
   "outputs": [
    {
     "name": "stdout",
     "output_type": "stream",
     "text": [
      "Input a word: Hjjj\n"
     ]
    },
    {
     "data": {
      "text/plain": [
       "True"
      ]
     },
     "execution_count": 6,
     "metadata": {},
     "output_type": "execute_result"
    }
   ],
   "source": [
    "name = input(\"Input a word: \")\n",
    "def checkCaps(name):\n",
    "    for n in name:\n",
    "        if(n[0].isupper()):\n",
    "            return True\n",
    "        else:\n",
    "            return False\n",
    "checkCaps(name)"
   ]
  },
  {
   "cell_type": "markdown",
   "metadata": {},
   "source": [
    "# Tuesday Ex2:  Define a function that takes in two arguments, first_name and last_name, and makes both optional. If no values are passed into the parameters, itshould output “No name passed in”; otherwise, it should print out the name."
   ]
  },
  {
   "cell_type": "code",
   "execution_count": 10,
   "metadata": {},
   "outputs": [
    {
     "name": "stdout",
     "output_type": "stream",
     "text": [
      "First name: Francis\n",
      "Last Name: Ngigi\n",
      "Francis Ngigi\n"
     ]
    }
   ],
   "source": [
    "def exerciseTwo(first_name = \"\", last_name = \"\"):\n",
    "    if first_name and last_name:\n",
    "        print(f\"{first_name} {last_name}\")\n",
    "    else:\n",
    "        print(\"No Name Passed In!!!!\")\n",
    "f_name = input(\"First name: \")\n",
    "l_name = input(\"Last Name: \")\n",
    "exerciseTwo(f_name, l_name)"
   ]
  },
  {
   "cell_type": "markdown",
   "metadata": {},
   "source": [
    "# Wednesday: Return Statement"
   ]
  },
  {
   "cell_type": "code",
   "execution_count": 12,
   "metadata": {},
   "outputs": [
    {
     "name": "stdout",
     "output_type": "stream",
     "text": [
      "180\n",
      "90\n"
     ]
    }
   ],
   "source": [
    "def addNumbers(num1, num2):\n",
    "    return num1 + num2\n",
    "num = addNumbers(90, 90) #saves the data in num\n",
    "print(num)\n",
    "print(addNumbers(23, 67)) #doesn't save the data"
   ]
  },
  {
   "cell_type": "code",
   "execution_count": 15,
   "metadata": {},
   "outputs": [
    {
     "name": "stdout",
     "output_type": "stream",
     "text": [
      "True\n"
     ]
    }
   ],
   "source": [
    "# Ternary Operators: shorthand Python branching statement\n",
    "def searchList(aList, el):\n",
    "    return True if el in aList else False\n",
    "result = searchList([\"one\", 2, \"Three\"], 2)\n",
    "print(result)"
   ]
  },
  {
   "cell_type": "markdown",
   "metadata": {},
   "source": [
    "# Wednesday Ex1:  Create a function that takes in a first and last name and returns the two names joined together"
   ]
  },
  {
   "cell_type": "code",
   "execution_count": 17,
   "metadata": {},
   "outputs": [
    {
     "name": "stdout",
     "output_type": "stream",
     "text": [
      "Enter first name: Muchai\n",
      "Enter last name: Ngigi\n"
     ]
    },
    {
     "data": {
      "text/plain": [
       "'MuchaiNgigi'"
      ]
     },
     "execution_count": 17,
     "metadata": {},
     "output_type": "execute_result"
    }
   ],
   "source": [
    "def joinNames(f_Name, l_Name):\n",
    "    return f_Name + l_Name\n",
    "FName = input(\"Enter first name: \")\n",
    "LName = input(\"Enter last name: \")\n",
    "joinNames(FName, LName)"
   ]
  },
  {
   "cell_type": "markdown",
   "metadata": {},
   "source": [
    "# Wednesday Ex2: Within a function, ask for user input. Have this function return that input to be stored in a variable outside of the function. Then print out the input."
   ]
  },
  {
   "cell_type": "code",
   "execution_count": 32,
   "metadata": {},
   "outputs": [
    {
     "name": "stdout",
     "output_type": "stream",
     "text": [
      "Enter word: Muchai\n",
      "Muchai\n"
     ]
    }
   ],
   "source": [
    "def naming():\n",
    "    w = input(\"Enter word: \")\n",
    "    return w\n",
    "word = naming()\n",
    "print(word)"
   ]
  },
  {
   "cell_type": "markdown",
   "metadata": {},
   "source": [
    "# Scope: accessibility of variables declared within a program"
   ]
  },
  {
   "cell_type": "code",
   "execution_count": 43,
   "metadata": {},
   "outputs": [
    {
     "ename": "UnboundLocalError",
     "evalue": "local variable 'number' referenced before assignment",
     "output_type": "error",
     "traceback": [
      "\u001b[1;31m---------------------------------------------------------------------------\u001b[0m",
      "\u001b[1;31mUnboundLocalError\u001b[0m                         Traceback (most recent call last)",
      "\u001b[1;32m<ipython-input-43-16d9b6d4e7ce>\u001b[0m in \u001b[0;36m<module>\u001b[1;34m\u001b[0m\n\u001b[0;32m      3\u001b[0m \u001b[1;32mdef\u001b[0m \u001b[0mn\u001b[0m\u001b[1;33m(\u001b[0m\u001b[1;33m)\u001b[0m\u001b[1;33m:\u001b[0m\u001b[1;33m\u001b[0m\u001b[1;33m\u001b[0m\u001b[0m\n\u001b[0;32m      4\u001b[0m     \u001b[0mnumber\u001b[0m \u001b[1;33m=\u001b[0m \u001b[0mnumber\u001b[0m \u001b[1;33m+\u001b[0m \u001b[1;36m1\u001b[0m\u001b[1;33m\u001b[0m\u001b[1;33m\u001b[0m\u001b[0m\n\u001b[1;32m----> 5\u001b[1;33m \u001b[0mn\u001b[0m\u001b[1;33m(\u001b[0m\u001b[1;33m)\u001b[0m  \u001b[1;31m#error becuase the function is limited to variables declared within it or passed in.\u001b[0m\u001b[1;33m\u001b[0m\u001b[1;33m\u001b[0m\u001b[0m\n\u001b[0m",
      "\u001b[1;32m<ipython-input-43-16d9b6d4e7ce>\u001b[0m in \u001b[0;36mn\u001b[1;34m()\u001b[0m\n\u001b[0;32m      2\u001b[0m \u001b[0mnumber\u001b[0m \u001b[1;33m=\u001b[0m \u001b[1;36m5\u001b[0m\u001b[1;33m\u001b[0m\u001b[1;33m\u001b[0m\u001b[0m\n\u001b[0;32m      3\u001b[0m \u001b[1;32mdef\u001b[0m \u001b[0mn\u001b[0m\u001b[1;33m(\u001b[0m\u001b[1;33m)\u001b[0m\u001b[1;33m:\u001b[0m\u001b[1;33m\u001b[0m\u001b[1;33m\u001b[0m\u001b[0m\n\u001b[1;32m----> 4\u001b[1;33m     \u001b[0mnumber\u001b[0m \u001b[1;33m=\u001b[0m \u001b[0mnumber\u001b[0m \u001b[1;33m+\u001b[0m \u001b[1;36m1\u001b[0m\u001b[1;33m\u001b[0m\u001b[1;33m\u001b[0m\u001b[0m\n\u001b[0m\u001b[0;32m      5\u001b[0m \u001b[0mn\u001b[0m\u001b[1;33m(\u001b[0m\u001b[1;33m)\u001b[0m  \u001b[1;31m#error becuase the function is limited to variables declared within it or passed in.\u001b[0m\u001b[1;33m\u001b[0m\u001b[1;33m\u001b[0m\u001b[0m\n",
      "\u001b[1;31mUnboundLocalError\u001b[0m: local variable 'number' referenced before assignment"
     ]
    }
   ],
   "source": [
    "# global\n",
    "number = 5\n",
    "def n():\n",
    "    number = number + 1\n",
    "n()  #error becuase the function is limited to variables declared within it or passed in.                   "
   ]
  },
  {
   "cell_type": "code",
   "execution_count": 44,
   "metadata": {},
   "outputs": [
    {
     "name": "stdout",
     "output_type": "stream",
     "text": [
      "Practice\n"
     ]
    }
   ],
   "source": [
    "def scopeTest():\n",
    "    word = \"Practice\"\n",
    "    return word\n",
    "w = scopeTest()\n",
    "print(w)"
   ]
  },
  {
   "cell_type": "code",
   "execution_count": 47,
   "metadata": {},
   "outputs": [],
   "source": [
    "# In-Place Algorithms\n",
    "num = 5\n",
    "def changeNum(n):\n",
    "    n += 5\n",
    "    print(num)"
   ]
  },
  {
   "cell_type": "code",
   "execution_count": 50,
   "metadata": {},
   "outputs": [
    {
     "name": "stdout",
     "output_type": "stream",
     "text": [
      "Before changing: ['Francis', 'Muchai', 'Ngigi', 'Jai']\n",
      "After changing: ['Francis', 'Muchaiiiii', 'Ngigi', 'Jai']\n"
     ]
    }
   ],
   "source": [
    "# Changing items using indexing\n",
    "sports = [\"Francis\", \"Muchai\", \"Ngigi\", \"Jai\"]\n",
    "def change(aList):\n",
    "    aList[1] = \"Muchaiiiii\"\n",
    "print(f\"Before changing: {sports}\")\n",
    "change(sports)\n",
    "print(f\"After changing: {sports}\")"
   ]
  },
  {
   "cell_type": "markdown",
   "metadata": {},
   "source": [
    "# Thursday Ex:  Create a function that will change the list passed in with a parameter of name at a given index. Such that if I were to pass in “Bill” and index 1, it would change “Rich” to “Bill.” Use the list and function definition in the following: names = ['Bob', 'Rich', 'Amanda'] ..... def changeValue(aList, name, index):"
   ]
  },
  {
   "cell_type": "code",
   "execution_count": 56,
   "metadata": {},
   "outputs": [],
   "source": [
    "def changeValue(aList, name, index):\n",
    "    aList[index] = name"
   ]
  }
 ],
 "metadata": {
  "kernelspec": {
   "display_name": "Python 3",
   "language": "python",
   "name": "python3"
  },
  "language_info": {
   "codemirror_mode": {
    "name": "ipython",
    "version": 3
   },
   "file_extension": ".py",
   "mimetype": "text/x-python",
   "name": "python",
   "nbconvert_exporter": "python",
   "pygments_lexer": "ipython3",
   "version": "3.7.4"
  }
 },
 "nbformat": 4,
 "nbformat_minor": 2
}
