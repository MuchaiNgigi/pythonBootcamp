{
 "cells": [
  {
   "cell_type": "markdown",
   "metadata": {},
   "source": [
    "# Receipt Printing Program"
   ]
  },
  {
   "cell_type": "code",
   "execution_count": 15,
   "metadata": {},
   "outputs": [
    {
     "name": "stdout",
     "output_type": "stream",
     "text": [
      "**************************************************\n",
      "\t\tCoding Temple, Inc\n",
      "\t\t283 Franklin St.\n",
      "\t\tBoston, MA\n",
      "==================================================\n",
      "\tProduct Name\tProduct Price\n",
      "\tBooks\t\t49.95\n",
      "\tComputer\t579.99\n",
      "\tMonitor\t\t124.89\n",
      "==================================================\n",
      "\t\t\tTotal\n",
      "\t\t\t754.83\n",
      "==================================================\n",
      "\t\tThanks for shopping with us\n",
      "**************************************************\n"
     ]
    }
   ],
   "source": [
    "p1, p1price = \"Books\", 49.95\n",
    "p2, p2price = \"Computer\", 579.99\n",
    "p3, p3price = \"Monitor\", 124.89\n",
    "total = p1price + p2price + p3price\n",
    "companyname = \"coding temple, inc\"\n",
    "companyaddr = \"283 Franklin St.\"\n",
    "area = \"Boston, MA\"\n",
    "message = \"Thanks for shopping with us\"\n",
    "print(\"*\" * 50)\n",
    "print(f\"\\t\\t{companyname.title()}\")\n",
    "print(f\"\\t\\t{companyaddr}\")\n",
    "print(f\"\\t\\t{area}\")\n",
    "print(\"=\" * 50)\n",
    "print(\"\\tProduct Name\\tProduct Price\")\n",
    "print(f\"\\t{p1}\\t\\t{p1price}\")\n",
    "print(f\"\\t{p2}\\t{p2price}\")\n",
    "print(f\"\\t{p3}\\t\\t{p3price}\")\n",
    "print(\"=\" * 50)\n",
    "print(\"\\t\\t\\tTotal\")\n",
    "print(f\"\\t\\t\\t{total}\")\n",
    "print(\"=\" * 50)\n",
    "print(f\"\\t\\t{message}\")\n",
    "print(\"*\" * 50)"
   ]
  },
  {
   "cell_type": "code",
   "execution_count": null,
   "metadata": {},
   "outputs": [],
   "source": []
  }
 ],
 "metadata": {
  "kernelspec": {
   "display_name": "Python 3",
   "language": "python",
   "name": "python3"
  },
  "language_info": {
   "codemirror_mode": {
    "name": "ipython",
    "version": 3
   },
   "file_extension": ".py",
   "mimetype": "text/x-python",
   "name": "python",
   "nbconvert_exporter": "python",
   "pygments_lexer": "ipython3",
   "version": "3.7.4"
  }
 },
 "nbformat": 4,
 "nbformat_minor": 2
}
