{
 "cells": [
  {
   "cell_type": "markdown",
   "metadata": {},
   "source": [
    "# User input and type converting"
   ]
  },
  {
   "cell_type": "markdown",
   "metadata": {},
   "source": [
    "Accepting user input"
   ]
  },
  {
   "cell_type": "code",
   "execution_count": 3,
   "metadata": {},
   "outputs": [
    {
     "name": "stdout",
     "output_type": "stream",
     "text": [
      "What is your name? Francis\n",
      "Hello Francis\n"
     ]
    }
   ],
   "source": [
    "a = input(\"What is your name? \")\n",
    "print(f\"Hello {a}\")"
   ]
  },
  {
   "cell_type": "code",
   "execution_count": 6,
   "metadata": {},
   "outputs": [
    {
     "name": "stdout",
     "output_type": "stream",
     "text": [
      "Input a Number to add78\n",
      "The sum of 100 + 78 is 178\n"
     ]
    }
   ],
   "source": [
    "ans = input(\"Input a Number to add\")\n",
    "result = 100 + int(ans)\n",
    "print(f\"The sum of 100 + {ans} is {result}\")"
   ]
  },
  {
   "cell_type": "markdown",
   "metadata": {},
   "source": [
    "Error Handling"
   ]
  },
  {
   "cell_type": "code",
   "execution_count": 9,
   "metadata": {},
   "outputs": [
    {
     "name": "stdout",
     "output_type": "stream",
     "text": [
      "Input a number to add: 6\n",
      "The sum of 100 + 6 is 106\n"
     ]
    }
   ],
   "source": [
    "try:\n",
    "    ans = input(\"Input a number to add: \")\n",
    "    result = 100 + int(ans)\n",
    "    print(f\"The sum of 100 + {ans} is {result}\")\n",
    "except:\n",
    "    print(f\"{ans} is not a valid number\")"
   ]
  },
  {
   "cell_type": "markdown",
   "metadata": {},
   "source": [
    "# Monday Exercises"
   ]
  },
  {
   "cell_type": "markdown",
   "metadata": {},
   "source": [
    "1. Converting a string of true to a boolean"
   ]
  },
  {
   "cell_type": "code",
   "execution_count": 10,
   "metadata": {},
   "outputs": [
    {
     "name": "stdout",
     "output_type": "stream",
     "text": [
      "<class 'str'>\n",
      "<class 'bool'>\n"
     ]
    }
   ],
   "source": [
    "a = \"True\"\n",
    "print(type(a))\n",
    "a = bool('True')\n",
    "print(type(a))"
   ]
  },
  {
   "cell_type": "markdown",
   "metadata": {},
   "source": [
    "2. Finding sum of two numbers"
   ]
  },
  {
   "cell_type": "code",
   "execution_count": 15,
   "metadata": {},
   "outputs": [
    {
     "name": "stdout",
     "output_type": "stream",
     "text": [
      "Enter the first number h\n",
      "Enter the second number k\n",
      "h and k are invalid numbers\n"
     ]
    }
   ],
   "source": [
    "try: \n",
    "    num1 = input(\"Enter the first number \")\n",
    "    num2 = input(\"Enter the second number \")\n",
    "    sum = int(num1) + int(num2)\n",
    "    print(f\"The sum of {num1} and {num2} is {sum}\")\n",
    "except:\n",
    "    print(f\"{num1} and {num2} are invalid numbers\")"
   ]
  },
  {
   "cell_type": "markdown",
   "metadata": {},
   "source": [
    "3. Car information"
   ]
  },
  {
   "cell_type": "code",
   "execution_count": 19,
   "metadata": {},
   "outputs": [
    {
     "name": "stdout",
     "output_type": "stream",
     "text": [
      "Enter the year: 2007\n",
      "Enter the make: Silverado\n",
      "Enter the model: Chevrolet\n",
      "Enter the color: Blue\n",
      "2007 Blue Silverado Chevrolet\n"
     ]
    }
   ],
   "source": [
    "year = input(\"Enter the year: \")\n",
    "make = input(\"Enter the make: \")\n",
    "model = input(\"Enter the model: \")\n",
    "color = input(\"Enter the color: \")\n",
    "year = int(year)\n",
    "print(f\"{year} {color} {make} {model}\")"
   ]
  },
  {
   "cell_type": "markdown",
   "metadata": {},
   "source": [
    "# If statements"
   ]
  },
  {
   "cell_type": "code",
   "execution_count": 21,
   "metadata": {},
   "outputs": [
    {
     "name": "stdout",
     "output_type": "stream",
     "text": [
      "Hello\n"
     ]
    }
   ],
   "source": [
    "x, y  = 15, 10\n",
    "if x > y:\n",
    "    print(\"Hello\")"
   ]
  },
  {
   "cell_type": "markdown",
   "metadata": {},
   "source": [
    "a. checking user input"
   ]
  },
  {
   "cell_type": "code",
   "execution_count": 26,
   "metadata": {},
   "outputs": [
    {
     "name": "stdout",
     "output_type": "stream",
     "text": [
      "What is 5 + 5? 10\n",
      "You are right\n"
     ]
    }
   ],
   "source": [
    "ans = input(\"What is 5 + 5? \")\n",
    "if int(ans) == 10:\n",
    "    print(\"You are right\")"
   ]
  },
  {
   "cell_type": "markdown",
   "metadata": {},
   "source": [
    "b. logical operators"
   ]
  },
  {
   "cell_type": "code",
   "execution_count": 28,
   "metadata": {},
   "outputs": [
    {
     "name": "stdout",
     "output_type": "stream",
     "text": [
      "Okay\n"
     ]
    }
   ],
   "source": [
    "x, y, z = 10, 15, 15\n",
    "if x>1 and y == z:\n",
    "    print(\"Okay\")"
   ]
  },
  {
   "cell_type": "code",
   "execution_count": 29,
   "metadata": {},
   "outputs": [
    {
     "name": "stdout",
     "output_type": "stream",
     "text": [
      "One is true\n"
     ]
    }
   ],
   "source": [
    "if x == y or x>9:\n",
    "    print(\"One is true\")"
   ]
  },
  {
   "cell_type": "code",
   "execution_count": 32,
   "metadata": {},
   "outputs": [
    {
     "name": "stdout",
     "output_type": "stream",
     "text": [
      "True\n"
     ]
    }
   ],
   "source": [
    "switch = False\n",
    "if not switch:\n",
    "    print(\"True\")"
   ]
  },
  {
   "cell_type": "markdown",
   "metadata": {},
   "source": [
    "# Membership operators"
   ]
  },
  {
   "cell_type": "code",
   "execution_count": null,
   "metadata": {},
   "outputs": [],
   "source": [
    "a = \"word\"\n",
    "if \"d\" in a:\n",
    "    print(f\"{a} has a character 'b'\")"
   ]
  },
  {
   "cell_type": "markdown",
   "metadata": {},
   "source": [
    "# Elif Statements"
   ]
  },
  {
   "cell_type": "code",
   "execution_count": 2,
   "metadata": {},
   "outputs": [
    {
     "name": "stdout",
     "output_type": "stream",
     "text": [
      "Input a number of your choice900\n",
      "900 is greater than 100.\n"
     ]
    }
   ],
   "source": [
    "number = int(input(\"Input a number of your choice\"))\n",
    "if number > 100:\n",
    "    print(f\"{number} is greater than 100.\")\n",
    "elif number < 100:\n",
    "    print(f\"{number} is greater than 100\")"
   ]
  },
  {
   "cell_type": "markdown",
   "metadata": {},
   "source": [
    "# Else Statements"
   ]
  },
  {
   "cell_type": "code",
   "execution_count": 17,
   "metadata": {},
   "outputs": [
    {
     "name": "stdout",
     "output_type": "stream",
     "text": [
      "Enter the time of the day in military time: 78888\n",
      "Input a correct time\n"
     ]
    }
   ],
   "source": [
    "try:\n",
    "    time = int(input(\"Enter the time of the day in military time: \"))\n",
    "    if time < 1200:\n",
    "        print(\"Good morning\")\n",
    "    elif time > 1200 and time < 1700:\n",
    "        print(\"Good Afternoon\")\n",
    "    elif time == 1700 and time > 1700:\n",
    "        print(\"“Good Evening\")\n",
    "    else:\n",
    "        print(\"Input a correct time\")\n",
    "except:\n",
    "        print(f\"{time} is not a correct time of the day\")"
   ]
  },
  {
   "cell_type": "code",
   "execution_count": null,
   "metadata": {},
   "outputs": [],
   "source": []
  }
 ],
 "metadata": {
  "kernelspec": {
   "display_name": "Python 3",
   "language": "python",
   "name": "python3"
  },
  "language_info": {
   "codemirror_mode": {
    "name": "ipython",
    "version": 3
   },
   "file_extension": ".py",
   "mimetype": "text/x-python",
   "name": "python",
   "nbconvert_exporter": "python",
   "pygments_lexer": "ipython3",
   "version": "3.7.4"
  }
 },
 "nbformat": 4,
 "nbformat_minor": 2
}
