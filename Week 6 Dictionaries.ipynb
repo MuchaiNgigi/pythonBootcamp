{
 "cells": [
  {
   "cell_type": "code",
   "execution_count": 1,
   "metadata": {},
   "outputs": [
    {
     "name": "stdout",
     "output_type": "stream",
     "text": [
      "<class 'dict'>\n",
      "<class 'dict'>\n"
     ]
    }
   ],
   "source": [
    "# dictionaries are accessed using keys not indexes\n",
    "empty = {  }   #this dictionary is empty\n",
    "employees = {\"name\" : \"Ngigi\"} # one key/value pair dictionaries\n",
    "employer = {\"name\" : \"Francis\", \"age\" : 21}\n",
    "print(type(employees))\n",
    "print(type(employer))"
   ]
  },
  {
   "cell_type": "code",
   "execution_count": 2,
   "metadata": {},
   "outputs": [
    {
     "name": "stdout",
     "output_type": "stream",
     "text": [
      "{'name': 'Ngigi'}\n"
     ]
    }
   ],
   "source": [
    "print(employees)"
   ]
  },
  {
   "cell_type": "code",
   "execution_count": 4,
   "metadata": {},
   "outputs": [
    {
     "name": "stdout",
     "output_type": "stream",
     "text": [
      "Ngigi\n",
      "21\n"
     ]
    }
   ],
   "source": [
    "# Accessing dictionary values:using the key value\n",
    "print(employees[\"name\"])\n",
    "print(employer[\"age\"])"
   ]
  },
  {
   "cell_type": "code",
   "execution_count": 7,
   "metadata": {},
   "outputs": [
    {
     "name": "stdout",
     "output_type": "stream",
     "text": [
      "Francis\n",
      "Age is not available\n"
     ]
    }
   ],
   "source": [
    "# Retriving information using the get method:doesn't throw a key error\n",
    "person = {\"name2\" : \"Francis\"}\n",
    "print(person.get(\"name2\", \"Name is not available\"))\n",
    "print(person.get(\"age\", \"Age is not available\"))"
   ]
  },
  {
   "cell_type": "code",
   "execution_count": 8,
   "metadata": {},
   "outputs": [
    {
     "name": "stdout",
     "output_type": "stream",
     "text": [
      "<class 'dict'>\n"
     ]
    }
   ],
   "source": [
    "# Dictionaries with lists\n",
    "sports = {\"sportify\" : [\"Football\", \"Basketball\", \"Badminton\"]}\n",
    "print(type(sports))"
   ]
  },
  {
   "cell_type": "code",
   "execution_count": 9,
   "metadata": {},
   "outputs": [
    {
     "name": "stdout",
     "output_type": "stream",
     "text": [
      "Football\n"
     ]
    }
   ],
   "source": [
    "print(sports[\"sportify\"][0])"
   ]
  },
  {
   "cell_type": "code",
   "execution_count": 11,
   "metadata": {},
   "outputs": [],
   "source": [
    "sport = [20, 23, 24, 34]\n",
    "sports3 = dict({\"ages\" : sport})"
   ]
  },
  {
   "cell_type": "code",
   "execution_count": 12,
   "metadata": {},
   "outputs": [
    {
     "name": "stdout",
     "output_type": "stream",
     "text": [
      "{'ages': [20, 23, 24, 34]}\n"
     ]
    }
   ],
   "source": [
    "print(sports3)"
   ]
  },
  {
   "cell_type": "code",
   "execution_count": 13,
   "metadata": {},
   "outputs": [
    {
     "name": "stdout",
     "output_type": "stream",
     "text": [
      "{'age': 34}\n",
      "34\n"
     ]
    }
   ],
   "source": [
    "# Lists with dictionaries\n",
    "data = [\"Francis\", \"Ngigi\", {\"age\" : 34}]\n",
    "print(data[2])\n",
    "print(data[2][\"age\"])"
   ]
  },
  {
   "cell_type": "code",
   "execution_count": 14,
   "metadata": {},
   "outputs": [
    {
     "name": "stdout",
     "output_type": "stream",
     "text": [
      "300\n"
     ]
    }
   ],
   "source": [
    "# Dictionaries with dictionaries\n",
    "data2 = {\"city\" : \"Nairobi\", \"wins\" : {\"2018\":109, \"2019\" : 300}}\n",
    "print(data2[\"wins\"][\"2019\"])"
   ]
  },
  {
   "cell_type": "markdown",
   "metadata": {},
   "source": [
    "# Monday Ex1:  Ask the user for their name and age, and then create a dictionary with those key-value pairs. Output the dictionary once created."
   ]
  },
  {
   "cell_type": "code",
   "execution_count": 17,
   "metadata": {},
   "outputs": [
    {
     "name": "stdout",
     "output_type": "stream",
     "text": [
      "Input your name: francis\n",
      "Input your age: 34\n",
      "{'francis': 34}\n"
     ]
    }
   ],
   "source": [
    "name = input(\"Input your name: \")\n",
    "age = int(input(\"Input your age: \"))\n",
    "details = {name : age}\n",
    "print(details)"
   ]
  },
  {
   "cell_type": "markdown",
   "metadata": {},
   "source": [
    "# Monday Ex2: Output all the ingredients from the following list within the “ingredients” key using a for loop"
   ]
  },
  {
   "cell_type": "code",
   "execution_count": null,
   "metadata": {},
   "outputs": [],
   "source": []
  }
 ],
 "metadata": {
  "kernelspec": {
   "display_name": "Python 3",
   "language": "python",
   "name": "python3"
  },
  "language_info": {
   "codemirror_mode": {
    "name": "ipython",
    "version": 3
   },
   "file_extension": ".py",
   "mimetype": "text/x-python",
   "name": "python",
   "nbconvert_exporter": "python",
   "pygments_lexer": "ipython3",
   "version": "3.7.4"
  }
 },
 "nbformat": 4,
 "nbformat_minor": 2
}
