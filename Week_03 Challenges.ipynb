{
 "cells": [
  {
   "cell_type": "markdown",
   "metadata": {},
   "source": [
    "# Age categorizer"
   ]
  },
  {
   "cell_type": "code",
   "execution_count": 16,
   "metadata": {},
   "outputs": [
    {
     "name": "stdout",
     "output_type": "stream",
     "text": [
      "Enter your age: 31\n",
      "Adult\n"
     ]
    }
   ],
   "source": [
    "try:\n",
    "    age = int(input(\"Enter your age: \"))\n",
    "    if age > 0 and age < 13:\n",
    "        print(\"Kid\")\n",
    "    elif age > 12 and age < 20:\n",
    "        print(\"Teenager\")\n",
    "    elif age > 19 and age < 30:\n",
    "        print(\"Young Adult\")\n",
    "    elif age > 29 and age < 64:\n",
    "        print(\"Adult\")\n",
    "    elif age > 64:\n",
    "        print(\"Senior\")\n",
    "    else:\n",
    "        print(f\"{age} is not recognized\")\n",
    "except:\n",
    "    print(\"Sorry. Enter a valid age\")"
   ]
  },
  {
   "cell_type": "markdown",
   "metadata": {},
   "source": [
    "# Text-Based RPG"
   ]
  },
  {
   "cell_type": "code",
   "execution_count": null,
   "metadata": {},
   "outputs": [],
   "source": []
  }
 ],
 "metadata": {
  "kernelspec": {
   "display_name": "Python 3",
   "language": "python",
   "name": "python3"
  },
  "language_info": {
   "codemirror_mode": {
    "name": "ipython",
    "version": 3
   },
   "file_extension": ".py",
   "mimetype": "text/x-python",
   "name": "python",
   "nbconvert_exporter": "python",
   "pygments_lexer": "ipython3",
   "version": "3.7.4"
  }
 },
 "nbformat": 4,
 "nbformat_minor": 2
}
