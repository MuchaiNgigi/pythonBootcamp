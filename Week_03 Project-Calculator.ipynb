{
 "cells": [
  {
   "cell_type": "code",
   "execution_count": null,
   "metadata": {},
   "outputs": [],
   "source": [
    "operation = input(\"Choose the type of operation - add/subtract/division/multiply\").lower()\n",
    "num1 = int(input(\"Enter the first number: \"))\n",
    "num2 = int(input(\"Enter the second number: \"))\n",
    "if operation == \"subtract\" or operation == \"divide\":\n",
    "    print(\"The order of the numbers matters due to the operation you chose\")\n",
    "try:\n",
    "    if operation == \"subtract\":\n",
    "        diff = num1 - num2\n",
    "        print(f\"Difference of {num1} and {num2} is {sum}\")\n",
    "    elif operation == \"add\":\n",
    "        sum = num1 + num2\n",
    "        print(f\"The sum of {num1} and {num2} is {sum}\")\n",
    "    elif operation == \"division\":\n",
    "        quotient = num1/num2\n",
    "        print(f\"The quotient of {num1} and {num2} is {quotient}\")\n",
    "    elif operation == \"multiply\":\n",
    "        product = num1 * num2\n",
    "        print(f\"The product of {num1} and {num2} is {product}\")\n",
    "    else:\n",
    "        print(f\"Sorry. {operation} is not an operation\")\n",
    "except:\n",
    "    print(\"Error! Improper Numbers used.\")"
   ]
  },
  {
   "cell_type": "code",
   "execution_count": null,
   "metadata": {},
   "outputs": [],
   "source": []
  }
 ],
 "metadata": {
  "kernelspec": {
   "display_name": "Python 3",
   "language": "python",
   "name": "python3"
  },
  "language_info": {
   "codemirror_mode": {
    "name": "ipython",
    "version": 3
   },
   "file_extension": ".py",
   "mimetype": "text/x-python",
   "name": "python",
   "nbconvert_exporter": "python",
   "pygments_lexer": "ipython3",
   "version": "3.7.4"
  }
 },
 "nbformat": 4,
 "nbformat_minor": 2
}
