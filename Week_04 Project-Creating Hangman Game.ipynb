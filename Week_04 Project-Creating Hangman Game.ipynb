{
 "cells": [
  {
   "cell_type": "markdown",
   "metadata": {},
   "source": [
    "#  Hangman Game"
   ]
  },
  {
   "cell_type": "code",
   "execution_count": 1,
   "metadata": {},
   "outputs": [
    {
     "name": "stdout",
     "output_type": "stream",
     "text": [
      " _  _  _  _  _  _  _  _  _ \n",
      "Guess the word: d\n",
      "You guessed right\n",
      "d _  _  _  _  _  _  _  _ \n",
      "Guess the word: e\n",
      "You guessed right\n",
      "de _ e _  _  _ e _ \n",
      "Guess the word: v\n",
      "You guessed right\n",
      "deve _  _  _ e _ \n",
      "Guess the word: l\n",
      "You guessed right\n",
      "devel _  _ e _ \n",
      "Guess the word: o\n",
      "You guessed right\n",
      "develo _ e _ \n",
      "Guess the word: p\n",
      "You guessed right\n",
      "develope _ \n",
      "Guess the word: r\n",
      "You guessed right\n",
      "You guessed developer right\n"
     ]
    }
   ],
   "source": [
    "from random import choice \n",
    "words = [\"francis\", \"ngigi\", \"developer\", \"young\", \"coder\", \"hangman\"]\n",
    "word = choice(words)\n",
    "life = len(word)\n",
    "guess = ''\n",
    "while life>0:\n",
    "    s = [i if i in guess else ' _ ' for i in word]\n",
    "    print(\"\".join(s))\n",
    "    a = input(\"Guess the word: \")\n",
    "    if a in word:\n",
    "        print(\"You guessed right\")\n",
    "        guess += a\n",
    "    else:\n",
    "        life-=1\n",
    "    if len(guess) == len(set(word)):\n",
    "        break\n",
    "if life == 0:\n",
    "    print(\"You were hanged\")\n",
    "else:\n",
    "    print(f\"You guessed {word} right\")"
   ]
  },
  {
   "cell_type": "code",
   "execution_count": null,
   "metadata": {},
   "outputs": [],
   "source": []
  }
 ],
 "metadata": {
  "kernelspec": {
   "display_name": "Python 3",
   "language": "python",
   "name": "python3"
  },
  "language_info": {
   "codemirror_mode": {
    "name": "ipython",
    "version": 3
   },
   "file_extension": ".py",
   "mimetype": "text/x-python",
   "name": "python",
   "nbconvert_exporter": "python",
   "pygments_lexer": "ipython3",
   "version": "3.7.4"
  }
 },
 "nbformat": 4,
 "nbformat_minor": 2
}
