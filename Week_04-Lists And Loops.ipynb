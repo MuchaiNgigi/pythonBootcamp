{
 "cells": [
  {
   "cell_type": "code",
   "execution_count": 1,
   "metadata": {},
   "outputs": [
    {
     "name": "stdout",
     "output_type": "stream",
     "text": [
      "[1, 2, 3, 4, 4, 5]\n"
     ]
    }
   ],
   "source": [
    "nums = [1, 2, 3, 4, 4, 5]\n",
    "print(nums)"
   ]
  },
  {
   "cell_type": "markdown",
   "metadata": {},
   "source": [
    "Accessing elements in a LIst"
   ]
  },
  {
   "cell_type": "code",
   "execution_count": 6,
   "metadata": {},
   "outputs": [
    {
     "name": "stdout",
     "output_type": "stream",
     "text": [
      "5 1\n"
     ]
    }
   ],
   "source": [
    "num1 = nums[-1]\n",
    "num = nums[0]\n",
    "print(num1, num)"
   ]
  },
  {
   "cell_type": "markdown",
   "metadata": {},
   "source": [
    "# Declaring elements of Mixed Data Types"
   ]
  },
  {
   "cell_type": "code",
   "execution_count": 8,
   "metadata": {},
   "outputs": [
    {
     "name": "stdout",
     "output_type": "stream",
     "text": [
      "[12, 'Francis', True]\n"
     ]
    }
   ],
   "source": [
    "data = [12, \"Francis\", True]\n",
    "print(data)"
   ]
  },
  {
   "cell_type": "markdown",
   "metadata": {},
   "source": [
    "# Lists Within Lists"
   ]
  },
  {
   "cell_type": "code",
   "execution_count": 9,
   "metadata": {},
   "outputs": [
    {
     "name": "stdout",
     "output_type": "stream",
     "text": [
      "[12, 'Python', [12, 45, 'Ngigi'], True]\n",
      "[12, 45, 'Ngigi']\n"
     ]
    }
   ],
   "source": [
    "data = [12, \"Python\", [12, 45, \"Ngigi\"], True]\n",
    "print(data)\n",
    "print(data[2])"
   ]
  },
  {
   "cell_type": "markdown",
   "metadata": {},
   "source": [
    "# Accessing Lists Within Lists"
   ]
  },
  {
   "cell_type": "code",
   "execution_count": 10,
   "metadata": {},
   "outputs": [
    {
     "name": "stdout",
     "output_type": "stream",
     "text": [
      "Ngigi\n"
     ]
    }
   ],
   "source": [
    "print(data[2][2])"
   ]
  },
  {
   "cell_type": "markdown",
   "metadata": {},
   "source": [
    "# Changing Data within a list"
   ]
  },
  {
   "cell_type": "code",
   "execution_count": 11,
   "metadata": {},
   "outputs": [
    {
     "name": "stdout",
     "output_type": "stream",
     "text": [
      "[12, 'Python', [12, 45, 'Francis'], True]\n"
     ]
    }
   ],
   "source": [
    "data[2][2] = \"Francis\"\n",
    "print(data)"
   ]
  },
  {
   "cell_type": "markdown",
   "metadata": {},
   "source": [
    "# Variable Storage"
   ]
  },
  {
   "cell_type": "code",
   "execution_count": 12,
   "metadata": {},
   "outputs": [
    {
     "name": "stdout",
     "output_type": "stream",
     "text": [
      "74484112\n"
     ]
    }
   ],
   "source": [
    "a = [1, 2, 3]\n",
    "print(id(a))"
   ]
  },
  {
   "cell_type": "code",
   "execution_count": 13,
   "metadata": {},
   "outputs": [
    {
     "name": "stdout",
     "output_type": "stream",
     "text": [
      "a: [1, 2, 3], b: [1, 2, 3]\n",
      "The location of a: 74484112 and b: 74484112\n",
      "a: [50, 2, 3], b: [50, 2, 3]\n"
     ]
    }
   ],
   "source": [
    "b = a \n",
    "print(f\"a: {a}, b: {b}\")\n",
    "print(f\"The location of a: {id(a)} and b: {id(b)}\")\n",
    "a[0] = 50\n",
    "print(f\"a: {a}, b: {b}\")"
   ]
  },
  {
   "cell_type": "markdown",
   "metadata": {},
   "source": [
    "# Copying a list"
   ]
  },
  {
   "cell_type": "code",
   "execution_count": 14,
   "metadata": {},
   "outputs": [
    {
     "name": "stdout",
     "output_type": "stream",
     "text": [
      "a: [100, 'Python', [12, 45, 'Francis'], True] and data_copy: [12, 'Python', [12, 45, 'Francis'], True]\n"
     ]
    }
   ],
   "source": [
    "data_copy = data[ : ]\n",
    "data[0] = 100\n",
    "print(f\"a: {data} and data_copy: {data_copy}\")"
   ]
  },
  {
   "cell_type": "markdown",
   "metadata": {},
   "source": [
    "# Monday Exercise"
   ]
  },
  {
   "cell_type": "code",
   "execution_count": 17,
   "metadata": {},
   "outputs": [
    {
     "name": "stdout",
     "output_type": "stream",
     "text": [
      "I love to play ['badminton', 'football', 'basketball']\n"
     ]
    }
   ],
   "source": [
    "sports = [\"badminton\", \"football\", \"basketball\"]\n",
    "print(f\"I love to play {sports}\")"
   ]
  },
  {
   "cell_type": "code",
   "execution_count": 21,
   "metadata": {},
   "outputs": [
    {
     "name": "stdout",
     "output_type": "stream",
     "text": [
      "['J', 'F', 'N']\n"
     ]
    }
   ],
   "source": [
    "names = [\"Jay\", \"Francis\", \"Ngigi\"]\n",
    "print([i[0]for i in names])"
   ]
  },
  {
   "cell_type": "markdown",
   "metadata": {},
   "source": [
    "# For Loops"
   ]
  },
  {
   "cell_type": "code",
   "execution_count": 22,
   "metadata": {},
   "outputs": [
    {
     "name": "stdout",
     "output_type": "stream",
     "text": [
      "0\n",
      "1\n",
      "2\n",
      "3\n",
      "4\n"
     ]
    }
   ],
   "source": [
    "for num in range(5):\n",
    "    print(f\"{num}\")"
   ]
  },
  {
   "cell_type": "code",
   "execution_count": 23,
   "metadata": {},
   "outputs": [
    {
     "name": "stdout",
     "output_type": "stream",
     "text": [
      "F\n",
      "r\n",
      "a\n",
      "n\n",
      "c\n",
      "i\n",
      "s\n"
     ]
    }
   ],
   "source": [
    "name = \"Francis\"\n",
    "for n in name:\n",
    "    print(f\"{n}\")"
   ]
  },
  {
   "cell_type": "code",
   "execution_count": 29,
   "metadata": {},
   "outputs": [
    {
     "name": "stdout",
     "output_type": "stream",
     "text": [
      "1\n",
      "2\n",
      "3\n",
      "4\n"
     ]
    }
   ],
   "source": [
    "for n in range(5):\n",
    "    if n == 0:\n",
    "        continue\n",
    "    print(n)"
   ]
  },
  {
   "cell_type": "markdown",
   "metadata": {},
   "source": [
    "# Numbers Divisible by 3 from 1 to 100"
   ]
  },
  {
   "cell_type": "code",
   "execution_count": 3,
   "metadata": {},
   "outputs": [
    {
     "name": "stdout",
     "output_type": "stream",
     "text": [
      "0\n",
      "3\n",
      "6\n",
      "9\n",
      "12\n",
      "15\n",
      "18\n",
      "21\n",
      "24\n",
      "27\n",
      "30\n",
      "33\n",
      "36\n",
      "39\n",
      "42\n",
      "45\n",
      "48\n",
      "51\n",
      "54\n",
      "57\n",
      "60\n",
      "63\n",
      "66\n",
      "69\n",
      "72\n",
      "75\n",
      "78\n",
      "81\n",
      "84\n",
      "87\n",
      "90\n",
      "93\n",
      "96\n",
      "99\n"
     ]
    }
   ],
   "source": [
    "for i in range(100):\n",
    "    if i % 3 == 0:\n",
    "        print(i)\n",
    "    continue"
   ]
  },
  {
   "cell_type": "markdown",
   "metadata": {},
   "source": [
    "# All Vowels in a user input"
   ]
  },
  {
   "cell_type": "code",
   "execution_count": 8,
   "metadata": {},
   "outputs": [
    {
     "name": "stdout",
     "output_type": "stream",
     "text": [
      "Input a word to find vowels: francis\n",
      "a\n",
      "i\n"
     ]
    }
   ],
   "source": [
    "word = input(\"Input a word to find vowels: \")\n",
    "vowels = 'aeiouAEIOU'\n",
    "for i in word:\n",
    "    if i in vowels:\n",
    "        print(i)"
   ]
  },
  {
   "cell_type": "markdown",
   "metadata": {},
   "source": [
    "# While Loop"
   ]
  },
  {
   "cell_type": "code",
   "execution_count": 1,
   "metadata": {},
   "outputs": [
    {
     "name": "stdout",
     "output_type": "stream",
     "text": [
      "10\n",
      "9\n",
      "8\n",
      "7\n",
      "6\n",
      "5\n",
      "4\n",
      "3\n",
      "2\n",
      "1\n"
     ]
    }
   ],
   "source": [
    "health = 10\n",
    "while health > 0:\n",
    "    print(health)\n",
    "    health -= 1 "
   ]
  },
  {
   "cell_type": "markdown",
   "metadata": {},
   "source": [
    "# Wednesday Ex1: While loop until user types \"quit\""
   ]
  },
  {
   "cell_type": "code",
   "execution_count": 8,
   "metadata": {},
   "outputs": [
    {
     "name": "stdout",
     "output_type": "stream",
     "text": [
      "Input a word: ghdstyfghsda\n",
      "Input another word: gfgvgascfvgfas\n",
      "Input another word: fvasgfgftgsda\n",
      "Input another word: quit\n",
      "You got it right!!!!!!\n"
     ]
    }
   ],
   "source": [
    "user_input = input(\"Input a word: \").lower()\n",
    "while user_input != 'quit':\n",
    "    user_input = input(\"Input another word: \").lower()\n",
    "    continue\n",
    "print(\"You got it right!!!!!!\")"
   ]
  },
  {
   "cell_type": "markdown",
   "metadata": {},
   "source": [
    "# Wednesday Ex2: Double Loop"
   ]
  },
  {
   "cell_type": "code",
   "execution_count": 11,
   "metadata": {},
   "outputs": [
    {
     "name": "stdout",
     "output_type": "stream",
     "text": [
      "0\n",
      "1\n",
      "2\n"
     ]
    }
   ],
   "source": [
    "game_over = False\n",
    "while game_over == False:\n",
    "    for i in range(5):\n",
    "        print(i)\n",
    "        if i == 2:\n",
    "            game_over = True\n",
    "            break"
   ]
  },
  {
   "cell_type": "markdown",
   "metadata": {},
   "source": [
    "# Thursday-Working With Lists"
   ]
  },
  {
   "cell_type": "code",
   "execution_count": 13,
   "metadata": {},
   "outputs": [
    {
     "name": "stdout",
     "output_type": "stream",
     "text": [
      "5\n"
     ]
    }
   ],
   "source": [
    "# Checking Length\n",
    "nums = [3, 4, 67, 5625, \"Francis\"]\n",
    "print(len(nums))"
   ]
  },
  {
   "cell_type": "code",
   "execution_count": 19,
   "metadata": {},
   "outputs": [
    {
     "name": "stdout",
     "output_type": "stream",
     "text": [
      "[3, 4]\n",
      "[3, 4, 67, 5625]\n",
      "[3, 4, 67, 5625, 'Francis']\n",
      "[3, 67, 'Francis']\n",
      "['Francis', 5625, 67, 4, 3]\n"
     ]
    }
   ],
   "source": [
    "# Slicing Lists- start:stop:step\n",
    "print(nums[:2])\n",
    "print(nums[:-1])\n",
    "print(nums[0:])\n",
    "print(nums[::2])\n",
    "print(nums[::-1])"
   ]
  },
  {
   "cell_type": "code",
   "execution_count": 20,
   "metadata": {},
   "outputs": [
    {
     "name": "stdout",
     "output_type": "stream",
     "text": [
      "[5, 7, 45]\n"
     ]
    }
   ],
   "source": [
    "# Adding Items-Using .append()\n",
    "num2 = [5, 7]\n",
    "num2.append(45)\n",
    "print(num2)"
   ]
  },
  {
   "cell_type": "code",
   "execution_count": 21,
   "metadata": {},
   "outputs": [
    {
     "name": "stdout",
     "output_type": "stream",
     "text": [
      "['Badminton', 'Football', 'Basketball', 'Tennis']\n"
     ]
    }
   ],
   "source": [
    "# Adding items: Using .insert(index, value)\n",
    "num2 = [\"Football\", \"Basketball\", \"Tennis\"]\n",
    "num2.insert(0, \"Badminton\")\n",
    "print(num2)"
   ]
  },
  {
   "cell_type": "code",
   "execution_count": 24,
   "metadata": {},
   "outputs": [
    {
     "name": "stdout",
     "output_type": "stream",
     "text": [
      "3\n"
     ]
    }
   ],
   "source": [
    "# Removing Items-pop()\n",
    "removed_item = nums.pop(0)\n",
    "print(removed_item)"
   ]
  },
  {
   "cell_type": "code",
   "execution_count": 38,
   "metadata": {},
   "outputs": [
    {
     "name": "stdout",
     "output_type": "stream",
     "text": [
      "Successfully Deleted\n",
      "Sports Available: \n",
      "-Basketball\n",
      "-Tennis\n"
     ]
    }
   ],
   "source": [
    "#Removing using remove()-remove specific item\n",
    "sports = [\"Football\", \"Basketball\", \"Tennis\"]\n",
    "try:\n",
    "    sports.remove(\"Football\")\n",
    "    print(\"Successfully Deleted\")\n",
    "except:\n",
    "    print(\"The item you are trying to remove does not exist\")\n",
    "print(\"Sports Available: \")\n",
    "for i in sports:\n",
    "    print(f\"-{i}\")"
   ]
  },
  {
   "cell_type": "code",
   "execution_count": 39,
   "metadata": {},
   "outputs": [
    {
     "name": "stdout",
     "output_type": "stream",
     "text": [
      "8\n",
      "1\n",
      "21\n"
     ]
    }
   ],
   "source": [
    "# Working with Numerical List Data\n",
    "num3 = [1, 2, 4, 6, 8]\n",
    "print(max(num3))\n",
    "print(min(num3))\n",
    "print(sum(num3))"
   ]
  },
  {
   "cell_type": "code",
   "execution_count": 42,
   "metadata": {},
   "outputs": [
    {
     "name": "stdout",
     "output_type": "stream",
     "text": [
      "Initially: [5, 6, 2, 4, 7, 1], After: [1, 2, 4, 5, 6, 7]\n"
     ]
    }
   ],
   "source": [
    "# Sorting a List: sorted()\n",
    "num4 = [5, 6, 2, 4, 7, 1]\n",
    "num4_sorted = sorted(num4)\n",
    "print(f\"Initially: {num4}, After: {num4_sorted}\")"
   ]
  },
  {
   "cell_type": "code",
   "execution_count": 45,
   "metadata": {},
   "outputs": [
    {
     "name": "stdout",
     "output_type": "stream",
     "text": [
      "[1, 2, 4, 5, 6, 7]\n"
     ]
    }
   ],
   "source": [
    "# Sorting a List: sort()\n",
    "num5 = num4[ : ]\n",
    "num5.sort()\n",
    "print(num5)"
   ]
  },
  {
   "cell_type": "code",
   "execution_count": 46,
   "metadata": {},
   "outputs": [
    {
     "name": "stdout",
     "output_type": "stream",
     "text": [
      "not found\n",
      "Found\n"
     ]
    }
   ],
   "source": [
    "# Conditionals and Lists: \n",
    "sport = [\"Football\", \"Basketball\", \"Badminton\", \"Volleyball\"]\n",
    "if \"Table Tennis\" in sport:\n",
    "    print(\"found\")\n",
    "else:\n",
    "    print(\"not found\")\n",
    "if \"Badminton\" not in sport:\n",
    "    print(\"Not Found\")\n",
    "else:\n",
    "    print(\"Found\")"
   ]
  },
  {
   "cell_type": "code",
   "execution_count": 48,
   "metadata": {},
   "outputs": [
    {
     "name": "stdout",
     "output_type": "stream",
     "text": [
      "empty\n"
     ]
    }
   ],
   "source": [
    "# Checking an empty list\n",
    "num6 = []\n",
    "if nums:\n",
    "    print(\"empty\")"
   ]
  },
  {
   "cell_type": "code",
   "execution_count": 49,
   "metadata": {},
   "outputs": [
    {
     "name": "stdout",
     "output_type": "stream",
     "text": [
      "Football\n",
      "Basketball\n",
      "Badminton\n",
      "Volleyball\n"
     ]
    }
   ],
   "source": [
    "# Loops and Lists\n",
    "for i in sport:\n",
    "    print(i)"
   ]
  },
  {
   "cell_type": "code",
   "execution_count": 50,
   "metadata": {},
   "outputs": [
    {
     "name": "stdout",
     "output_type": "stream",
     "text": [
      "['Frank', 'Ngigi']\n"
     ]
    }
   ],
   "source": [
    "names = [\"Bob\", \"Frank\", \"Bob\", \"Ngigi\", \"Bob\"]\n",
    "while \"Bob\" in names:\n",
    "    names.remove(\"Bob\")\n",
    "print(names)"
   ]
  },
  {
   "cell_type": "markdown",
   "metadata": {},
   "source": [
    "# Thursday Ex1: Removing duplicates in lists"
   ]
  },
  {
   "cell_type": "code",
   "execution_count": 51,
   "metadata": {},
   "outputs": [
    {
     "name": "stdout",
     "output_type": "stream",
     "text": [
      "['Bob', 'Kenny', 'Amanda']\n"
     ]
    }
   ],
   "source": [
    "names = ['Bob', 'Kenny', 'Amanda', 'Bob', 'Kenny']\n",
    "names = list(dict.fromkeys(names))\n",
    "print(names)"
   ]
  },
  {
   "cell_type": "markdown",
   "metadata": {},
   "source": [
    "# Thursday Ex2: "
   ]
  },
  {
   "cell_type": "code",
   "execution_count": 56,
   "metadata": {},
   "outputs": [
    {
     "name": "stdout",
     "output_type": "stream",
     "text": [
      "Enter a wordhi\n",
      "Enter Another Word: francis\n",
      "Enter Another Word: ngigi\n",
      "Enter Another Word: quit\n",
      "hi\n",
      "francis\n",
      "ngigi\n",
      "quit\n"
     ]
    }
   ],
   "source": [
    "words = []\n",
    "word = \"quit\"\n",
    "userIn = input(\"Enter a word\").lower()\n",
    "words.append(userIn)\n",
    "while userIn != word:\n",
    "    userIn = input(\"Enter Another Word: \").lower()\n",
    "    words.append(userIn)\n",
    "    continue\n",
    "for i in words:\n",
    "    print(i)"
   ]
  }
 ],
 "metadata": {
  "kernelspec": {
   "display_name": "Python 3",
   "language": "python",
   "name": "python3"
  },
  "language_info": {
   "codemirror_mode": {
    "name": "ipython",
    "version": 3
   },
   "file_extension": ".py",
   "mimetype": "text/x-python",
   "name": "python",
   "nbconvert_exporter": "python",
   "pygments_lexer": "ipython3",
   "version": "3.7.4"
  }
 },
 "nbformat": 4,
 "nbformat_minor": 2
}
